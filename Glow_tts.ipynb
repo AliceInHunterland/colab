{
  "nbformat": 4,
  "nbformat_minor": 0,
  "metadata": {
    "colab": {
      "name": "Glow-tts.ipynb",
      "provenance": [],
      "collapsed_sections": [],
      "include_colab_link": true
    },
    "kernelspec": {
      "name": "python3",
      "display_name": "Python 3"
    },
    "accelerator": "GPU"
  },
  "cells": [
    {
      "cell_type": "markdown",
      "metadata": {
        "id": "view-in-github",
        "colab_type": "text"
      },
      "source": [
        "<a href=\"https://colab.research.google.com/github/AliceInHunterland/colab/blob/main/Glow_tts.ipynb\" target=\"_parent\"><img src=\"https://colab.research.google.com/assets/colab-badge.svg\" alt=\"Open In Colab\"/></a>"
      ]
    },
    {
      "cell_type": "code",
      "metadata": {
        "id": "Cz5Q9hDjANe5",
        "colab": {
          "base_uri": "https://localhost:8080/"
        },
        "outputId": "b8e1d126-3b38-4424-eea3-f4ab6c563ce1"
      },
      "source": [
        "%cd /content\n",
        "!git clone https://github.com/NVIDIA/waveglow waveglow\n",
        "%cd /content/waveglow\n",
        "!gdown https://drive.google.com/uc?id=1rpK8CzAAirq9sWZhe9nlfvxMF1dRgFbF\n",
        "%cd /content\n"
      ],
      "execution_count": null,
      "outputs": [
        {
          "output_type": "stream",
          "text": [
            "/content\n",
            "Cloning into 'waveglow'...\n",
            "remote: Enumerating objects: 190, done.\u001b[K\n",
            "remote: Total 190 (delta 0), reused 0 (delta 0), pack-reused 190\u001b[K\n",
            "Receiving objects: 100% (190/190), 435.41 KiB | 2.33 MiB/s, done.\n",
            "Resolving deltas: 100% (106/106), done.\n",
            "/content/waveglow\n",
            "Downloading...\n",
            "From: https://drive.google.com/uc?id=1rpK8CzAAirq9sWZhe9nlfvxMF1dRgFbF\n",
            "To: /content/waveglow/waveglow_256channels_universal_v5.pt\n",
            "676MB [00:07, 90.2MB/s]\n",
            "/content\n"
          ],
          "name": "stdout"
        }
      ]
    },
    {
      "cell_type": "code",
      "metadata": {
        "id": "jo4iln3XD7dP",
        "colab": {
          "base_uri": "https://localhost:8080/",
          "height": 1000
        },
        "outputId": "63b48f90-fe5c-4538-f6b1-ca9378357190"
      },
      "source": [
        "%cd /content\n",
        "!pip3 uninstall apex\n",
        "\n",
        "!git clone https://www.github.com/nvidia/apex apex\n",
        "%cd /content/apex\n",
        "!pip install -v --disable-pip-version-check --no-cache-dir ./\n",
        "%cd /content"
      ],
      "execution_count": null,
      "outputs": [
        {
          "output_type": "stream",
          "text": [
            "/content\n",
            "\u001b[33mWARNING: Skipping apex as it is not installed.\u001b[0m\n",
            "fatal: destination path 'apex' already exists and is not an empty directory.\n",
            "/content/apex\n",
            "Created temporary directory: /tmp/pip-ephem-wheel-cache-har1a3l2\n",
            "Created temporary directory: /tmp/pip-req-tracker-vzgug6tl\n",
            "Created requirements tracker '/tmp/pip-req-tracker-vzgug6tl'\n",
            "Created temporary directory: /tmp/pip-install-bhi_i_uf\n",
            "Processing /content/apex\n",
            "  Created temporary directory: /tmp/pip-req-build-id7y4_vd\n",
            "  Added file:///content/apex to build tracker '/tmp/pip-req-tracker-vzgug6tl'\n",
            "    Running setup.py (path:/tmp/pip-req-build-id7y4_vd/setup.py) egg_info for package from file:///content/apex\n",
            "    Running command python setup.py egg_info\n",
            "\n",
            "\n",
            "    torch.__version__  = 1.8.0+cu101\n",
            "\n",
            "\n",
            "    running egg_info\n",
            "    creating /tmp/pip-req-build-id7y4_vd/pip-egg-info/apex.egg-info\n",
            "    writing /tmp/pip-req-build-id7y4_vd/pip-egg-info/apex.egg-info/PKG-INFO\n",
            "    writing dependency_links to /tmp/pip-req-build-id7y4_vd/pip-egg-info/apex.egg-info/dependency_links.txt\n",
            "    writing top-level names to /tmp/pip-req-build-id7y4_vd/pip-egg-info/apex.egg-info/top_level.txt\n",
            "    writing manifest file '/tmp/pip-req-build-id7y4_vd/pip-egg-info/apex.egg-info/SOURCES.txt'\n",
            "    writing manifest file '/tmp/pip-req-build-id7y4_vd/pip-egg-info/apex.egg-info/SOURCES.txt'\n",
            "    /tmp/pip-req-build-id7y4_vd/setup.py:67: UserWarning: Option --pyprof not specified. Not installing PyProf dependencies!\n",
            "      warnings.warn(\"Option --pyprof not specified. Not installing PyProf dependencies!\")\n",
            "  Source in /tmp/pip-req-build-id7y4_vd has version 0.1, which satisfies requirement apex==0.1 from file:///content/apex\n",
            "  Removed apex==0.1 from file:///content/apex from build tracker '/tmp/pip-req-tracker-vzgug6tl'\n",
            "Building wheels for collected packages: apex\n",
            "  Created temporary directory: /tmp/pip-wheel-ncbaxku7\n",
            "  Building wheel for apex (setup.py) ... \u001b[?25l  Destination directory: /tmp/pip-wheel-ncbaxku7\n",
            "  Running command /usr/bin/python3 -u -c 'import sys, setuptools, tokenize; sys.argv[0] = '\"'\"'/tmp/pip-req-build-id7y4_vd/setup.py'\"'\"'; __file__='\"'\"'/tmp/pip-req-build-id7y4_vd/setup.py'\"'\"';f=getattr(tokenize, '\"'\"'open'\"'\"', open)(__file__);code=f.read().replace('\"'\"'\\r\\n'\"'\"', '\"'\"'\\n'\"'\"');f.close();exec(compile(code, __file__, '\"'\"'exec'\"'\"'))' bdist_wheel -d /tmp/pip-wheel-ncbaxku7 --python-tag cp37\n",
            "\n",
            "\n",
            "  torch.__version__  = 1.8.0+cu101\n",
            "\n",
            "\n",
            "  /tmp/pip-req-build-id7y4_vd/setup.py:67: UserWarning: Option --pyprof not specified. Not installing PyProf dependencies!\n",
            "    warnings.warn(\"Option --pyprof not specified. Not installing PyProf dependencies!\")\n",
            "  running bdist_wheel\n",
            "  running build\n",
            "  running build_py\n",
            "  creating build\n",
            "  creating build/lib\n",
            "  creating build/lib/apex\n",
            "  copying apex/__init__.py -> build/lib/apex\n",
            "  creating build/lib/apex/optimizers\n",
            "  copying apex/optimizers/fused_novograd.py -> build/lib/apex/optimizers\n",
            "  copying apex/optimizers/__init__.py -> build/lib/apex/optimizers\n",
            "  copying apex/optimizers/fused_adam.py -> build/lib/apex/optimizers\n",
            "  copying apex/optimizers/fused_lamb.py -> build/lib/apex/optimizers\n",
            "  copying apex/optimizers/fused_adagrad.py -> build/lib/apex/optimizers\n",
            "  copying apex/optimizers/fused_sgd.py -> build/lib/apex/optimizers\n",
            "  creating build/lib/apex/mlp\n",
            "  copying apex/mlp/mlp.py -> build/lib/apex/mlp\n",
            "  copying apex/mlp/__init__.py -> build/lib/apex/mlp\n",
            "  creating build/lib/apex/amp\n",
            "  copying apex/amp/scaler.py -> build/lib/apex/amp\n",
            "  copying apex/amp/rnn_compat.py -> build/lib/apex/amp\n",
            "  copying apex/amp/utils.py -> build/lib/apex/amp\n",
            "  copying apex/amp/_process_optimizer.py -> build/lib/apex/amp\n",
            "  copying apex/amp/frontend.py -> build/lib/apex/amp\n",
            "  copying apex/amp/__version__.py -> build/lib/apex/amp\n",
            "  copying apex/amp/_amp_state.py -> build/lib/apex/amp\n",
            "  copying apex/amp/amp.py -> build/lib/apex/amp\n",
            "  copying apex/amp/__init__.py -> build/lib/apex/amp\n",
            "  copying apex/amp/wrap.py -> build/lib/apex/amp\n",
            "  copying apex/amp/handle.py -> build/lib/apex/amp\n",
            "  copying apex/amp/_initialize.py -> build/lib/apex/amp\n",
            "  copying apex/amp/compat.py -> build/lib/apex/amp\n",
            "  copying apex/amp/opt.py -> build/lib/apex/amp\n",
            "  creating build/lib/apex/multi_tensor_apply\n",
            "  copying apex/multi_tensor_apply/__init__.py -> build/lib/apex/multi_tensor_apply\n",
            "  copying apex/multi_tensor_apply/multi_tensor_apply.py -> build/lib/apex/multi_tensor_apply\n",
            "  creating build/lib/apex/RNN\n",
            "  copying apex/RNN/cells.py -> build/lib/apex/RNN\n",
            "  copying apex/RNN/RNNBackend.py -> build/lib/apex/RNN\n",
            "  copying apex/RNN/__init__.py -> build/lib/apex/RNN\n",
            "  copying apex/RNN/models.py -> build/lib/apex/RNN\n",
            "  creating build/lib/apex/contrib\n",
            "  copying apex/contrib/__init__.py -> build/lib/apex/contrib\n",
            "  creating build/lib/apex/fp16_utils\n",
            "  copying apex/fp16_utils/fp16_optimizer.py -> build/lib/apex/fp16_utils\n",
            "  copying apex/fp16_utils/__init__.py -> build/lib/apex/fp16_utils\n",
            "  copying apex/fp16_utils/fp16util.py -> build/lib/apex/fp16_utils\n",
            "  copying apex/fp16_utils/loss_scaler.py -> build/lib/apex/fp16_utils\n",
            "  creating build/lib/apex/pyprof\n",
            "  copying apex/pyprof/__init__.py -> build/lib/apex/pyprof\n",
            "  creating build/lib/apex/parallel\n",
            "  copying apex/parallel/sync_batchnorm.py -> build/lib/apex/parallel\n",
            "  copying apex/parallel/optimized_sync_batchnorm.py -> build/lib/apex/parallel\n",
            "  copying apex/parallel/LARC.py -> build/lib/apex/parallel\n",
            "  copying apex/parallel/__init__.py -> build/lib/apex/parallel\n",
            "  copying apex/parallel/sync_batchnorm_kernel.py -> build/lib/apex/parallel\n",
            "  copying apex/parallel/distributed.py -> build/lib/apex/parallel\n",
            "  copying apex/parallel/multiproc.py -> build/lib/apex/parallel\n",
            "  copying apex/parallel/optimized_sync_batchnorm_kernel.py -> build/lib/apex/parallel\n",
            "  creating build/lib/apex/reparameterization\n",
            "  copying apex/reparameterization/__init__.py -> build/lib/apex/reparameterization\n",
            "  copying apex/reparameterization/reparameterization.py -> build/lib/apex/reparameterization\n",
            "  copying apex/reparameterization/weight_norm.py -> build/lib/apex/reparameterization\n",
            "  creating build/lib/apex/normalization\n",
            "  copying apex/normalization/fused_layer_norm.py -> build/lib/apex/normalization\n",
            "  copying apex/normalization/__init__.py -> build/lib/apex/normalization\n",
            "  creating build/lib/apex/amp/lists\n",
            "  copying apex/amp/lists/functional_overrides.py -> build/lib/apex/amp/lists\n",
            "  copying apex/amp/lists/__init__.py -> build/lib/apex/amp/lists\n",
            "  copying apex/amp/lists/torch_overrides.py -> build/lib/apex/amp/lists\n",
            "  copying apex/amp/lists/tensor_overrides.py -> build/lib/apex/amp/lists\n",
            "  creating build/lib/apex/contrib/optimizers\n",
            "  copying apex/contrib/optimizers/distributed_fused_adam.py -> build/lib/apex/contrib/optimizers\n",
            "  copying apex/contrib/optimizers/fp16_optimizer.py -> build/lib/apex/contrib/optimizers\n",
            "  copying apex/contrib/optimizers/distributed_fused_adam_v2.py -> build/lib/apex/contrib/optimizers\n",
            "  copying apex/contrib/optimizers/distributed_fused_lamb.py -> build/lib/apex/contrib/optimizers\n",
            "  copying apex/contrib/optimizers/distributed_fused_adam_v3.py -> build/lib/apex/contrib/optimizers\n",
            "  copying apex/contrib/optimizers/__init__.py -> build/lib/apex/contrib/optimizers\n",
            "  copying apex/contrib/optimizers/fused_adam.py -> build/lib/apex/contrib/optimizers\n",
            "  copying apex/contrib/optimizers/fused_lamb.py -> build/lib/apex/contrib/optimizers\n",
            "  copying apex/contrib/optimizers/fused_sgd.py -> build/lib/apex/contrib/optimizers\n",
            "  creating build/lib/apex/contrib/groupbn\n",
            "  copying apex/contrib/groupbn/__init__.py -> build/lib/apex/contrib/groupbn\n",
            "  copying apex/contrib/groupbn/batch_norm.py -> build/lib/apex/contrib/groupbn\n",
            "  creating build/lib/apex/contrib/xentropy\n",
            "  copying apex/contrib/xentropy/__init__.py -> build/lib/apex/contrib/xentropy\n",
            "  copying apex/contrib/xentropy/softmax_xentropy.py -> build/lib/apex/contrib/xentropy\n",
            "  creating build/lib/apex/contrib/layer_norm\n",
            "  copying apex/contrib/layer_norm/__init__.py -> build/lib/apex/contrib/layer_norm\n",
            "  copying apex/contrib/layer_norm/layer_norm.py -> build/lib/apex/contrib/layer_norm\n",
            "  creating build/lib/apex/contrib/sparsity\n",
            "  copying apex/contrib/sparsity/sparse_masklib.py -> build/lib/apex/contrib/sparsity\n",
            "  copying apex/contrib/sparsity/__init__.py -> build/lib/apex/contrib/sparsity\n",
            "  copying apex/contrib/sparsity/asp.py -> build/lib/apex/contrib/sparsity\n",
            "  creating build/lib/apex/contrib/multihead_attn\n",
            "  copying apex/contrib/multihead_attn/mask_softmax_dropout_func.py -> build/lib/apex/contrib/multihead_attn\n",
            "  copying apex/contrib/multihead_attn/fast_self_multihead_attn_norm_add_func.py -> build/lib/apex/contrib/multihead_attn\n",
            "  copying apex/contrib/multihead_attn/self_multihead_attn_func.py -> build/lib/apex/contrib/multihead_attn\n",
            "  copying apex/contrib/multihead_attn/fast_encdec_multihead_attn_norm_add_func.py -> build/lib/apex/contrib/multihead_attn\n",
            "  copying apex/contrib/multihead_attn/__init__.py -> build/lib/apex/contrib/multihead_attn\n",
            "  copying apex/contrib/multihead_attn/encdec_multihead_attn_func.py -> build/lib/apex/contrib/multihead_attn\n",
            "  copying apex/contrib/multihead_attn/fast_self_multihead_attn_func.py -> build/lib/apex/contrib/multihead_attn\n",
            "  copying apex/contrib/multihead_attn/fast_encdec_multihead_attn_func.py -> build/lib/apex/contrib/multihead_attn\n",
            "  copying apex/contrib/multihead_attn/encdec_multihead_attn.py -> build/lib/apex/contrib/multihead_attn\n",
            "  copying apex/contrib/multihead_attn/self_multihead_attn.py -> build/lib/apex/contrib/multihead_attn\n",
            "  creating build/lib/apex/pyprof/parse\n",
            "  copying apex/pyprof/parse/db.py -> build/lib/apex/pyprof/parse\n",
            "  copying apex/pyprof/parse/__main__.py -> build/lib/apex/pyprof/parse\n",
            "  copying apex/pyprof/parse/nvvp.py -> build/lib/apex/pyprof/parse\n",
            "  copying apex/pyprof/parse/kernel.py -> build/lib/apex/pyprof/parse\n",
            "  copying apex/pyprof/parse/__init__.py -> build/lib/apex/pyprof/parse\n",
            "  copying apex/pyprof/parse/parse.py -> build/lib/apex/pyprof/parse\n",
            "  creating build/lib/apex/pyprof/prof\n",
            "  copying apex/pyprof/prof/output.py -> build/lib/apex/pyprof/prof\n",
            "  copying apex/pyprof/prof/softmax.py -> build/lib/apex/pyprof/prof\n",
            "  copying apex/pyprof/prof/randomSample.py -> build/lib/apex/pyprof/prof\n",
            "  copying apex/pyprof/prof/pooling.py -> build/lib/apex/pyprof/prof\n",
            "  copying apex/pyprof/prof/utility.py -> build/lib/apex/pyprof/prof\n",
            "  copying apex/pyprof/prof/__main__.py -> build/lib/apex/pyprof/prof\n",
            "  copying apex/pyprof/prof/embedding.py -> build/lib/apex/pyprof/prof\n",
            "  copying apex/pyprof/prof/pointwise.py -> build/lib/apex/pyprof/prof\n",
            "  copying apex/pyprof/prof/convert.py -> build/lib/apex/pyprof/prof\n",
            "  copying apex/pyprof/prof/optim.py -> build/lib/apex/pyprof/prof\n",
            "  copying apex/pyprof/prof/__init__.py -> build/lib/apex/pyprof/prof\n",
            "  copying apex/pyprof/prof/activation.py -> build/lib/apex/pyprof/prof\n",
            "  copying apex/pyprof/prof/index_slice_join_mutate.py -> build/lib/apex/pyprof/prof\n",
            "  copying apex/pyprof/prof/recurrentCell.py -> build/lib/apex/pyprof/prof\n",
            "  copying apex/pyprof/prof/misc.py -> build/lib/apex/pyprof/prof\n",
            "  copying apex/pyprof/prof/normalization.py -> build/lib/apex/pyprof/prof\n",
            "  copying apex/pyprof/prof/linear.py -> build/lib/apex/pyprof/prof\n",
            "  copying apex/pyprof/prof/blas.py -> build/lib/apex/pyprof/prof\n",
            "  copying apex/pyprof/prof/prof.py -> build/lib/apex/pyprof/prof\n",
            "  copying apex/pyprof/prof/loss.py -> build/lib/apex/pyprof/prof\n",
            "  copying apex/pyprof/prof/reduction.py -> build/lib/apex/pyprof/prof\n",
            "  copying apex/pyprof/prof/dropout.py -> build/lib/apex/pyprof/prof\n",
            "  copying apex/pyprof/prof/conv.py -> build/lib/apex/pyprof/prof\n",
            "  copying apex/pyprof/prof/usage.py -> build/lib/apex/pyprof/prof\n",
            "  copying apex/pyprof/prof/base.py -> build/lib/apex/pyprof/prof\n",
            "  copying apex/pyprof/prof/data.py -> build/lib/apex/pyprof/prof\n",
            "  creating build/lib/apex/pyprof/nvtx\n",
            "  copying apex/pyprof/nvtx/__init__.py -> build/lib/apex/pyprof/nvtx\n",
            "  copying apex/pyprof/nvtx/nvmarker.py -> build/lib/apex/pyprof/nvtx\n",
            "  installing to build/bdist.linux-x86_64/wheel\n",
            "  running install\n",
            "  running install_lib\n",
            "  creating build/bdist.linux-x86_64\n",
            "  creating build/bdist.linux-x86_64/wheel\n",
            "  creating build/bdist.linux-x86_64/wheel/apex\n",
            "  creating build/bdist.linux-x86_64/wheel/apex/optimizers\n",
            "  copying build/lib/apex/optimizers/fused_novograd.py -> build/bdist.linux-x86_64/wheel/apex/optimizers\n",
            "  copying build/lib/apex/optimizers/__init__.py -> build/bdist.linux-x86_64/wheel/apex/optimizers\n",
            "  copying build/lib/apex/optimizers/fused_adam.py -> build/bdist.linux-x86_64/wheel/apex/optimizers\n",
            "  copying build/lib/apex/optimizers/fused_lamb.py -> build/bdist.linux-x86_64/wheel/apex/optimizers\n",
            "  copying build/lib/apex/optimizers/fused_adagrad.py -> build/bdist.linux-x86_64/wheel/apex/optimizers\n",
            "  copying build/lib/apex/optimizers/fused_sgd.py -> build/bdist.linux-x86_64/wheel/apex/optimizers\n",
            "  creating build/bdist.linux-x86_64/wheel/apex/mlp\n",
            "  copying build/lib/apex/mlp/mlp.py -> build/bdist.linux-x86_64/wheel/apex/mlp\n",
            "  copying build/lib/apex/mlp/__init__.py -> build/bdist.linux-x86_64/wheel/apex/mlp\n",
            "  creating build/bdist.linux-x86_64/wheel/apex/amp\n",
            "  copying build/lib/apex/amp/scaler.py -> build/bdist.linux-x86_64/wheel/apex/amp\n",
            "  copying build/lib/apex/amp/rnn_compat.py -> build/bdist.linux-x86_64/wheel/apex/amp\n",
            "  copying build/lib/apex/amp/utils.py -> build/bdist.linux-x86_64/wheel/apex/amp\n",
            "  copying build/lib/apex/amp/_process_optimizer.py -> build/bdist.linux-x86_64/wheel/apex/amp\n",
            "  creating build/bdist.linux-x86_64/wheel/apex/amp/lists\n",
            "  copying build/lib/apex/amp/lists/functional_overrides.py -> build/bdist.linux-x86_64/wheel/apex/amp/lists\n",
            "  copying build/lib/apex/amp/lists/__init__.py -> build/bdist.linux-x86_64/wheel/apex/amp/lists\n",
            "  copying build/lib/apex/amp/lists/torch_overrides.py -> build/bdist.linux-x86_64/wheel/apex/amp/lists\n",
            "  copying build/lib/apex/amp/lists/tensor_overrides.py -> build/bdist.linux-x86_64/wheel/apex/amp/lists\n",
            "  copying build/lib/apex/amp/frontend.py -> build/bdist.linux-x86_64/wheel/apex/amp\n",
            "  copying build/lib/apex/amp/__version__.py -> build/bdist.linux-x86_64/wheel/apex/amp\n",
            "  copying build/lib/apex/amp/_amp_state.py -> build/bdist.linux-x86_64/wheel/apex/amp\n",
            "  copying build/lib/apex/amp/amp.py -> build/bdist.linux-x86_64/wheel/apex/amp\n",
            "  copying build/lib/apex/amp/__init__.py -> build/bdist.linux-x86_64/wheel/apex/amp\n",
            "  copying build/lib/apex/amp/wrap.py -> build/bdist.linux-x86_64/wheel/apex/amp\n",
            "  copying build/lib/apex/amp/handle.py -> build/bdist.linux-x86_64/wheel/apex/amp\n",
            "  copying build/lib/apex/amp/_initialize.py -> build/bdist.linux-x86_64/wheel/apex/amp\n",
            "  copying build/lib/apex/amp/compat.py -> build/bdist.linux-x86_64/wheel/apex/amp\n",
            "  copying build/lib/apex/amp/opt.py -> build/bdist.linux-x86_64/wheel/apex/amp\n",
            "  creating build/bdist.linux-x86_64/wheel/apex/multi_tensor_apply\n",
            "  copying build/lib/apex/multi_tensor_apply/__init__.py -> build/bdist.linux-x86_64/wheel/apex/multi_tensor_apply\n",
            "  copying build/lib/apex/multi_tensor_apply/multi_tensor_apply.py -> build/bdist.linux-x86_64/wheel/apex/multi_tensor_apply\n",
            "  creating build/bdist.linux-x86_64/wheel/apex/RNN\n",
            "  copying build/lib/apex/RNN/cells.py -> build/bdist.linux-x86_64/wheel/apex/RNN\n",
            "  copying build/lib/apex/RNN/RNNBackend.py -> build/bdist.linux-x86_64/wheel/apex/RNN\n",
            "  copying build/lib/apex/RNN/__init__.py -> build/bdist.linux-x86_64/wheel/apex/RNN\n",
            "  copying build/lib/apex/RNN/models.py -> build/bdist.linux-x86_64/wheel/apex/RNN\n",
            "  copying build/lib/apex/__init__.py -> build/bdist.linux-x86_64/wheel/apex\n",
            "  creating build/bdist.linux-x86_64/wheel/apex/contrib\n",
            "  creating build/bdist.linux-x86_64/wheel/apex/contrib/optimizers\n",
            "  copying build/lib/apex/contrib/optimizers/distributed_fused_adam.py -> build/bdist.linux-x86_64/wheel/apex/contrib/optimizers\n",
            "  copying build/lib/apex/contrib/optimizers/fp16_optimizer.py -> build/bdist.linux-x86_64/wheel/apex/contrib/optimizers\n",
            "  copying build/lib/apex/contrib/optimizers/distributed_fused_adam_v2.py -> build/bdist.linux-x86_64/wheel/apex/contrib/optimizers\n",
            "  copying build/lib/apex/contrib/optimizers/distributed_fused_lamb.py -> build/bdist.linux-x86_64/wheel/apex/contrib/optimizers\n",
            "  copying build/lib/apex/contrib/optimizers/distributed_fused_adam_v3.py -> build/bdist.linux-x86_64/wheel/apex/contrib/optimizers\n",
            "  copying build/lib/apex/contrib/optimizers/__init__.py -> build/bdist.linux-x86_64/wheel/apex/contrib/optimizers\n",
            "  copying build/lib/apex/contrib/optimizers/fused_adam.py -> build/bdist.linux-x86_64/wheel/apex/contrib/optimizers\n",
            "  copying build/lib/apex/contrib/optimizers/fused_lamb.py -> build/bdist.linux-x86_64/wheel/apex/contrib/optimizers\n",
            "  copying build/lib/apex/contrib/optimizers/fused_sgd.py -> build/bdist.linux-x86_64/wheel/apex/contrib/optimizers\n",
            "  creating build/bdist.linux-x86_64/wheel/apex/contrib/groupbn\n",
            "  copying build/lib/apex/contrib/groupbn/__init__.py -> build/bdist.linux-x86_64/wheel/apex/contrib/groupbn\n",
            "  copying build/lib/apex/contrib/groupbn/batch_norm.py -> build/bdist.linux-x86_64/wheel/apex/contrib/groupbn\n",
            "  copying build/lib/apex/contrib/__init__.py -> build/bdist.linux-x86_64/wheel/apex/contrib\n",
            "  creating build/bdist.linux-x86_64/wheel/apex/contrib/xentropy\n",
            "  copying build/lib/apex/contrib/xentropy/__init__.py -> build/bdist.linux-x86_64/wheel/apex/contrib/xentropy\n",
            "  copying build/lib/apex/contrib/xentropy/softmax_xentropy.py -> build/bdist.linux-x86_64/wheel/apex/contrib/xentropy\n",
            "  creating build/bdist.linux-x86_64/wheel/apex/contrib/layer_norm\n",
            "  copying build/lib/apex/contrib/layer_norm/__init__.py -> build/bdist.linux-x86_64/wheel/apex/contrib/layer_norm\n",
            "  copying build/lib/apex/contrib/layer_norm/layer_norm.py -> build/bdist.linux-x86_64/wheel/apex/contrib/layer_norm\n",
            "  creating build/bdist.linux-x86_64/wheel/apex/contrib/sparsity\n",
            "  copying build/lib/apex/contrib/sparsity/sparse_masklib.py -> build/bdist.linux-x86_64/wheel/apex/contrib/sparsity\n",
            "  copying build/lib/apex/contrib/sparsity/__init__.py -> build/bdist.linux-x86_64/wheel/apex/contrib/sparsity\n",
            "  copying build/lib/apex/contrib/sparsity/asp.py -> build/bdist.linux-x86_64/wheel/apex/contrib/sparsity\n",
            "  creating build/bdist.linux-x86_64/wheel/apex/contrib/multihead_attn\n",
            "  copying build/lib/apex/contrib/multihead_attn/mask_softmax_dropout_func.py -> build/bdist.linux-x86_64/wheel/apex/contrib/multihead_attn\n",
            "  copying build/lib/apex/contrib/multihead_attn/fast_self_multihead_attn_norm_add_func.py -> build/bdist.linux-x86_64/wheel/apex/contrib/multihead_attn\n",
            "  copying build/lib/apex/contrib/multihead_attn/self_multihead_attn_func.py -> build/bdist.linux-x86_64/wheel/apex/contrib/multihead_attn\n",
            "  copying build/lib/apex/contrib/multihead_attn/fast_encdec_multihead_attn_norm_add_func.py -> build/bdist.linux-x86_64/wheel/apex/contrib/multihead_attn\n",
            "  copying build/lib/apex/contrib/multihead_attn/__init__.py -> build/bdist.linux-x86_64/wheel/apex/contrib/multihead_attn\n",
            "  copying build/lib/apex/contrib/multihead_attn/encdec_multihead_attn_func.py -> build/bdist.linux-x86_64/wheel/apex/contrib/multihead_attn\n",
            "  copying build/lib/apex/contrib/multihead_attn/fast_self_multihead_attn_func.py -> build/bdist.linux-x86_64/wheel/apex/contrib/multihead_attn\n",
            "  copying build/lib/apex/contrib/multihead_attn/fast_encdec_multihead_attn_func.py -> build/bdist.linux-x86_64/wheel/apex/contrib/multihead_attn\n",
            "  copying build/lib/apex/contrib/multihead_attn/encdec_multihead_attn.py -> build/bdist.linux-x86_64/wheel/apex/contrib/multihead_attn\n",
            "  copying build/lib/apex/contrib/multihead_attn/self_multihead_attn.py -> build/bdist.linux-x86_64/wheel/apex/contrib/multihead_attn\n",
            "  creating build/bdist.linux-x86_64/wheel/apex/fp16_utils\n",
            "  copying build/lib/apex/fp16_utils/fp16_optimizer.py -> build/bdist.linux-x86_64/wheel/apex/fp16_utils\n",
            "  copying build/lib/apex/fp16_utils/__init__.py -> build/bdist.linux-x86_64/wheel/apex/fp16_utils\n",
            "  copying build/lib/apex/fp16_utils/fp16util.py -> build/bdist.linux-x86_64/wheel/apex/fp16_utils\n",
            "  copying build/lib/apex/fp16_utils/loss_scaler.py -> build/bdist.linux-x86_64/wheel/apex/fp16_utils\n",
            "  creating build/bdist.linux-x86_64/wheel/apex/pyprof\n",
            "  copying build/lib/apex/pyprof/__init__.py -> build/bdist.linux-x86_64/wheel/apex/pyprof\n",
            "  creating build/bdist.linux-x86_64/wheel/apex/pyprof/parse\n",
            "  copying build/lib/apex/pyprof/parse/db.py -> build/bdist.linux-x86_64/wheel/apex/pyprof/parse\n",
            "  copying build/lib/apex/pyprof/parse/__main__.py -> build/bdist.linux-x86_64/wheel/apex/pyprof/parse\n",
            "  copying build/lib/apex/pyprof/parse/nvvp.py -> build/bdist.linux-x86_64/wheel/apex/pyprof/parse\n",
            "  copying build/lib/apex/pyprof/parse/kernel.py -> build/bdist.linux-x86_64/wheel/apex/pyprof/parse\n",
            "  copying build/lib/apex/pyprof/parse/__init__.py -> build/bdist.linux-x86_64/wheel/apex/pyprof/parse\n",
            "  copying build/lib/apex/pyprof/parse/parse.py -> build/bdist.linux-x86_64/wheel/apex/pyprof/parse\n",
            "  creating build/bdist.linux-x86_64/wheel/apex/pyprof/prof\n",
            "  copying build/lib/apex/pyprof/prof/output.py -> build/bdist.linux-x86_64/wheel/apex/pyprof/prof\n",
            "  copying build/lib/apex/pyprof/prof/softmax.py -> build/bdist.linux-x86_64/wheel/apex/pyprof/prof\n",
            "  copying build/lib/apex/pyprof/prof/randomSample.py -> build/bdist.linux-x86_64/wheel/apex/pyprof/prof\n",
            "  copying build/lib/apex/pyprof/prof/pooling.py -> build/bdist.linux-x86_64/wheel/apex/pyprof/prof\n",
            "  copying build/lib/apex/pyprof/prof/utility.py -> build/bdist.linux-x86_64/wheel/apex/pyprof/prof\n",
            "  copying build/lib/apex/pyprof/prof/__main__.py -> build/bdist.linux-x86_64/wheel/apex/pyprof/prof\n",
            "  copying build/lib/apex/pyprof/prof/embedding.py -> build/bdist.linux-x86_64/wheel/apex/pyprof/prof\n",
            "  copying build/lib/apex/pyprof/prof/pointwise.py -> build/bdist.linux-x86_64/wheel/apex/pyprof/prof\n",
            "  copying build/lib/apex/pyprof/prof/convert.py -> build/bdist.linux-x86_64/wheel/apex/pyprof/prof\n",
            "  copying build/lib/apex/pyprof/prof/optim.py -> build/bdist.linux-x86_64/wheel/apex/pyprof/prof\n",
            "  copying build/lib/apex/pyprof/prof/__init__.py -> build/bdist.linux-x86_64/wheel/apex/pyprof/prof\n",
            "  copying build/lib/apex/pyprof/prof/activation.py -> build/bdist.linux-x86_64/wheel/apex/pyprof/prof\n",
            "  copying build/lib/apex/pyprof/prof/index_slice_join_mutate.py -> build/bdist.linux-x86_64/wheel/apex/pyprof/prof\n",
            "  copying build/lib/apex/pyprof/prof/recurrentCell.py -> build/bdist.linux-x86_64/wheel/apex/pyprof/prof\n",
            "  copying build/lib/apex/pyprof/prof/misc.py -> build/bdist.linux-x86_64/wheel/apex/pyprof/prof\n",
            "  copying build/lib/apex/pyprof/prof/normalization.py -> build/bdist.linux-x86_64/wheel/apex/pyprof/prof\n",
            "  copying build/lib/apex/pyprof/prof/linear.py -> build/bdist.linux-x86_64/wheel/apex/pyprof/prof\n",
            "  copying build/lib/apex/pyprof/prof/blas.py -> build/bdist.linux-x86_64/wheel/apex/pyprof/prof\n",
            "  copying build/lib/apex/pyprof/prof/prof.py -> build/bdist.linux-x86_64/wheel/apex/pyprof/prof\n",
            "  copying build/lib/apex/pyprof/prof/loss.py -> build/bdist.linux-x86_64/wheel/apex/pyprof/prof\n",
            "  copying build/lib/apex/pyprof/prof/reduction.py -> build/bdist.linux-x86_64/wheel/apex/pyprof/prof\n",
            "  copying build/lib/apex/pyprof/prof/dropout.py -> build/bdist.linux-x86_64/wheel/apex/pyprof/prof\n",
            "  copying build/lib/apex/pyprof/prof/conv.py -> build/bdist.linux-x86_64/wheel/apex/pyprof/prof\n",
            "  copying build/lib/apex/pyprof/prof/usage.py -> build/bdist.linux-x86_64/wheel/apex/pyprof/prof\n",
            "  copying build/lib/apex/pyprof/prof/base.py -> build/bdist.linux-x86_64/wheel/apex/pyprof/prof\n",
            "  copying build/lib/apex/pyprof/prof/data.py -> build/bdist.linux-x86_64/wheel/apex/pyprof/prof\n",
            "  creating build/bdist.linux-x86_64/wheel/apex/pyprof/nvtx\n",
            "  copying build/lib/apex/pyprof/nvtx/__init__.py -> build/bdist.linux-x86_64/wheel/apex/pyprof/nvtx\n",
            "  copying build/lib/apex/pyprof/nvtx/nvmarker.py -> build/bdist.linux-x86_64/wheel/apex/pyprof/nvtx\n",
            "  creating build/bdist.linux-x86_64/wheel/apex/parallel\n",
            "  copying build/lib/apex/parallel/sync_batchnorm.py -> build/bdist.linux-x86_64/wheel/apex/parallel\n",
            "  copying build/lib/apex/parallel/optimized_sync_batchnorm.py -> build/bdist.linux-x86_64/wheel/apex/parallel\n",
            "  copying build/lib/apex/parallel/LARC.py -> build/bdist.linux-x86_64/wheel/apex/parallel\n",
            "  copying build/lib/apex/parallel/__init__.py -> build/bdist.linux-x86_64/wheel/apex/parallel\n",
            "  copying build/lib/apex/parallel/sync_batchnorm_kernel.py -> build/bdist.linux-x86_64/wheel/apex/parallel\n",
            "  copying build/lib/apex/parallel/distributed.py -> build/bdist.linux-x86_64/wheel/apex/parallel\n",
            "  copying build/lib/apex/parallel/multiproc.py -> build/bdist.linux-x86_64/wheel/apex/parallel\n",
            "  copying build/lib/apex/parallel/optimized_sync_batchnorm_kernel.py -> build/bdist.linux-x86_64/wheel/apex/parallel\n",
            "  creating build/bdist.linux-x86_64/wheel/apex/reparameterization\n",
            "  copying build/lib/apex/reparameterization/__init__.py -> build/bdist.linux-x86_64/wheel/apex/reparameterization\n",
            "  copying build/lib/apex/reparameterization/reparameterization.py -> build/bdist.linux-x86_64/wheel/apex/reparameterization\n",
            "  copying build/lib/apex/reparameterization/weight_norm.py -> build/bdist.linux-x86_64/wheel/apex/reparameterization\n",
            "  creating build/bdist.linux-x86_64/wheel/apex/normalization\n",
            "  copying build/lib/apex/normalization/fused_layer_norm.py -> build/bdist.linux-x86_64/wheel/apex/normalization\n",
            "  copying build/lib/apex/normalization/__init__.py -> build/bdist.linux-x86_64/wheel/apex/normalization\n",
            "  running install_egg_info\n",
            "  running egg_info\n",
            "  creating apex.egg-info\n",
            "  writing apex.egg-info/PKG-INFO\n",
            "  writing dependency_links to apex.egg-info/dependency_links.txt\n",
            "  writing top-level names to apex.egg-info/top_level.txt\n",
            "  writing manifest file 'apex.egg-info/SOURCES.txt'\n",
            "  writing manifest file 'apex.egg-info/SOURCES.txt'\n",
            "  Copying apex.egg-info to build/bdist.linux-x86_64/wheel/apex-0.1-py3.7.egg-info\n",
            "  running install_scripts\n",
            "  adding license file \"LICENSE\" (matched pattern \"LICEN[CS]E*\")\n",
            "  creating build/bdist.linux-x86_64/wheel/apex-0.1.dist-info/WHEEL\n",
            "  creating '/tmp/pip-wheel-ncbaxku7/apex-0.1-cp37-none-any.whl' and adding 'build/bdist.linux-x86_64/wheel' to it\n",
            "  adding 'apex/__init__.py'\n",
            "  adding 'apex/RNN/RNNBackend.py'\n",
            "  adding 'apex/RNN/__init__.py'\n",
            "  adding 'apex/RNN/cells.py'\n",
            "  adding 'apex/RNN/models.py'\n",
            "  adding 'apex/amp/__init__.py'\n",
            "  adding 'apex/amp/__version__.py'\n",
            "  adding 'apex/amp/_amp_state.py'\n",
            "  adding 'apex/amp/_initialize.py'\n",
            "  adding 'apex/amp/_process_optimizer.py'\n",
            "  adding 'apex/amp/amp.py'\n",
            "  adding 'apex/amp/compat.py'\n",
            "  adding 'apex/amp/frontend.py'\n",
            "  adding 'apex/amp/handle.py'\n",
            "  adding 'apex/amp/opt.py'\n",
            "  adding 'apex/amp/rnn_compat.py'\n",
            "  adding 'apex/amp/scaler.py'\n",
            "  adding 'apex/amp/utils.py'\n",
            "  adding 'apex/amp/wrap.py'\n",
            "  adding 'apex/amp/lists/__init__.py'\n",
            "  adding 'apex/amp/lists/functional_overrides.py'\n",
            "  adding 'apex/amp/lists/tensor_overrides.py'\n",
            "  adding 'apex/amp/lists/torch_overrides.py'\n",
            "  adding 'apex/contrib/__init__.py'\n",
            "  adding 'apex/contrib/groupbn/__init__.py'\n",
            "  adding 'apex/contrib/groupbn/batch_norm.py'\n",
            "  adding 'apex/contrib/layer_norm/__init__.py'\n",
            "  adding 'apex/contrib/layer_norm/layer_norm.py'\n",
            "  adding 'apex/contrib/multihead_attn/__init__.py'\n",
            "  adding 'apex/contrib/multihead_attn/encdec_multihead_attn.py'\n",
            "  adding 'apex/contrib/multihead_attn/encdec_multihead_attn_func.py'\n",
            "  adding 'apex/contrib/multihead_attn/fast_encdec_multihead_attn_func.py'\n",
            "  adding 'apex/contrib/multihead_attn/fast_encdec_multihead_attn_norm_add_func.py'\n",
            "  adding 'apex/contrib/multihead_attn/fast_self_multihead_attn_func.py'\n",
            "  adding 'apex/contrib/multihead_attn/fast_self_multihead_attn_norm_add_func.py'\n",
            "  adding 'apex/contrib/multihead_attn/mask_softmax_dropout_func.py'\n",
            "  adding 'apex/contrib/multihead_attn/self_multihead_attn.py'\n",
            "  adding 'apex/contrib/multihead_attn/self_multihead_attn_func.py'\n",
            "  adding 'apex/contrib/optimizers/__init__.py'\n",
            "  adding 'apex/contrib/optimizers/distributed_fused_adam.py'\n",
            "  adding 'apex/contrib/optimizers/distributed_fused_adam_v2.py'\n",
            "  adding 'apex/contrib/optimizers/distributed_fused_adam_v3.py'\n",
            "  adding 'apex/contrib/optimizers/distributed_fused_lamb.py'\n",
            "  adding 'apex/contrib/optimizers/fp16_optimizer.py'\n",
            "  adding 'apex/contrib/optimizers/fused_adam.py'\n",
            "  adding 'apex/contrib/optimizers/fused_lamb.py'\n",
            "  adding 'apex/contrib/optimizers/fused_sgd.py'\n",
            "  adding 'apex/contrib/sparsity/__init__.py'\n",
            "  adding 'apex/contrib/sparsity/asp.py'\n",
            "  adding 'apex/contrib/sparsity/sparse_masklib.py'\n",
            "  adding 'apex/contrib/xentropy/__init__.py'\n",
            "  adding 'apex/contrib/xentropy/softmax_xentropy.py'\n",
            "  adding 'apex/fp16_utils/__init__.py'\n",
            "  adding 'apex/fp16_utils/fp16_optimizer.py'\n",
            "  adding 'apex/fp16_utils/fp16util.py'\n",
            "  adding 'apex/fp16_utils/loss_scaler.py'\n",
            "  adding 'apex/mlp/__init__.py'\n",
            "  adding 'apex/mlp/mlp.py'\n",
            "  adding 'apex/multi_tensor_apply/__init__.py'\n",
            "  adding 'apex/multi_tensor_apply/multi_tensor_apply.py'\n",
            "  adding 'apex/normalization/__init__.py'\n",
            "  adding 'apex/normalization/fused_layer_norm.py'\n",
            "  adding 'apex/optimizers/__init__.py'\n",
            "  adding 'apex/optimizers/fused_adagrad.py'\n",
            "  adding 'apex/optimizers/fused_adam.py'\n",
            "  adding 'apex/optimizers/fused_lamb.py'\n",
            "  adding 'apex/optimizers/fused_novograd.py'\n",
            "  adding 'apex/optimizers/fused_sgd.py'\n",
            "  adding 'apex/parallel/LARC.py'\n",
            "  adding 'apex/parallel/__init__.py'\n",
            "  adding 'apex/parallel/distributed.py'\n",
            "  adding 'apex/parallel/multiproc.py'\n",
            "  adding 'apex/parallel/optimized_sync_batchnorm.py'\n",
            "  adding 'apex/parallel/optimized_sync_batchnorm_kernel.py'\n",
            "  adding 'apex/parallel/sync_batchnorm.py'\n",
            "  adding 'apex/parallel/sync_batchnorm_kernel.py'\n",
            "  adding 'apex/pyprof/__init__.py'\n",
            "  adding 'apex/pyprof/nvtx/__init__.py'\n",
            "  adding 'apex/pyprof/nvtx/nvmarker.py'\n",
            "  adding 'apex/pyprof/parse/__init__.py'\n",
            "  adding 'apex/pyprof/parse/__main__.py'\n",
            "  adding 'apex/pyprof/parse/db.py'\n",
            "  adding 'apex/pyprof/parse/kernel.py'\n",
            "  adding 'apex/pyprof/parse/nvvp.py'\n",
            "  adding 'apex/pyprof/parse/parse.py'\n",
            "  adding 'apex/pyprof/prof/__init__.py'\n",
            "  adding 'apex/pyprof/prof/__main__.py'\n",
            "  adding 'apex/pyprof/prof/activation.py'\n",
            "  adding 'apex/pyprof/prof/base.py'\n",
            "  adding 'apex/pyprof/prof/blas.py'\n",
            "  adding 'apex/pyprof/prof/conv.py'\n",
            "  adding 'apex/pyprof/prof/convert.py'\n",
            "  adding 'apex/pyprof/prof/data.py'\n",
            "  adding 'apex/pyprof/prof/dropout.py'\n",
            "  adding 'apex/pyprof/prof/embedding.py'\n",
            "  adding 'apex/pyprof/prof/index_slice_join_mutate.py'\n",
            "  adding 'apex/pyprof/prof/linear.py'\n",
            "  adding 'apex/pyprof/prof/loss.py'\n",
            "  adding 'apex/pyprof/prof/misc.py'\n",
            "  adding 'apex/pyprof/prof/normalization.py'\n",
            "  adding 'apex/pyprof/prof/optim.py'\n",
            "  adding 'apex/pyprof/prof/output.py'\n",
            "  adding 'apex/pyprof/prof/pointwise.py'\n",
            "  adding 'apex/pyprof/prof/pooling.py'\n",
            "  adding 'apex/pyprof/prof/prof.py'\n",
            "  adding 'apex/pyprof/prof/randomSample.py'\n",
            "  adding 'apex/pyprof/prof/recurrentCell.py'\n",
            "  adding 'apex/pyprof/prof/reduction.py'\n",
            "  adding 'apex/pyprof/prof/softmax.py'\n",
            "  adding 'apex/pyprof/prof/usage.py'\n",
            "  adding 'apex/pyprof/prof/utility.py'\n",
            "  adding 'apex/reparameterization/__init__.py'\n",
            "  adding 'apex/reparameterization/reparameterization.py'\n",
            "  adding 'apex/reparameterization/weight_norm.py'\n",
            "  adding 'apex-0.1.dist-info/LICENSE'\n",
            "  adding 'apex-0.1.dist-info/METADATA'\n",
            "  adding 'apex-0.1.dist-info/WHEEL'\n",
            "  adding 'apex-0.1.dist-info/top_level.txt'\n",
            "  adding 'apex-0.1.dist-info/RECORD'\n",
            "  removing build/bdist.linux-x86_64/wheel\n",
            "\u001b[?25hdone\n",
            "  Created wheel for apex: filename=apex-0.1-cp37-none-any.whl size=195495 sha256=5355fc922e5c033ef5cc309bd0d9348bbf9b86fd6363bc0ef879650a14eea823\n",
            "  Stored in directory: /tmp/pip-ephem-wheel-cache-har1a3l2/wheels/b1/3a/aa/d84906eaab780ae580c7a5686a33bf2820d8590ac3b60d5967\n",
            "  Removing source in /tmp/pip-req-build-id7y4_vd\n",
            "Successfully built apex\n",
            "Installing collected packages: apex\n",
            "\n",
            "Successfully installed apex-0.1\n",
            "Cleaning up...\n",
            "Removed build tracker '/tmp/pip-req-tracker-vzgug6tl'\n"
          ],
          "name": "stdout"
        },
        {
          "output_type": "display_data",
          "data": {
            "application/vnd.colab-display-data+json": {
              "pip_warning": {
                "packages": [
                  "apex"
                ]
              }
            }
          },
          "metadata": {
            "tags": []
          }
        },
        {
          "output_type": "stream",
          "text": [
            "/content\n"
          ],
          "name": "stdout"
        }
      ]
    },
    {
      "cell_type": "code",
      "metadata": {
        "id": "ByAgqWOQC1o0",
        "colab": {
          "base_uri": "https://localhost:8080/"
        },
        "outputId": "a8475805-8883-4a12-b6e9-9177f9b6ee21"
      },
      "source": [
        "import torch\n",
        "\n",
        "%cd /content/waveglow\n",
        "waveglow_path = '/content/waveglow/waveglow_256channels_universal_v5.pt'\n",
        "waveglow = torch.load(waveglow_path)['model']\n",
        "waveglow = waveglow.remove_weightnorm(waveglow)\n",
        "_ = waveglow.cuda().eval()\n",
        "%cd /content"
      ],
      "execution_count": null,
      "outputs": [
        {
          "output_type": "stream",
          "text": [
            "/content/waveglow\n"
          ],
          "name": "stdout"
        },
        {
          "output_type": "stream",
          "text": [
            "/usr/local/lib/python3.7/dist-packages/torch/serialization.py:656: SourceChangeWarning: source code of class 'torch.nn.modules.conv.ConvTranspose1d' has changed. you can retrieve the original source code by accessing the object's source attribute or set `torch.nn.Module.dump_patches = True` and use the patch tool to revert the changes.\n",
            "  warnings.warn(msg, SourceChangeWarning)\n",
            "/usr/local/lib/python3.7/dist-packages/torch/serialization.py:656: SourceChangeWarning: source code of class 'torch.nn.modules.container.ModuleList' has changed. you can retrieve the original source code by accessing the object's source attribute or set `torch.nn.Module.dump_patches = True` and use the patch tool to revert the changes.\n",
            "  warnings.warn(msg, SourceChangeWarning)\n",
            "/usr/local/lib/python3.7/dist-packages/torch/serialization.py:656: SourceChangeWarning: source code of class 'torch.nn.modules.conv.Conv1d' has changed. you can retrieve the original source code by accessing the object's source attribute or set `torch.nn.Module.dump_patches = True` and use the patch tool to revert the changes.\n",
            "  warnings.warn(msg, SourceChangeWarning)\n"
          ],
          "name": "stderr"
        },
        {
          "output_type": "stream",
          "text": [
            "/content\n"
          ],
          "name": "stdout"
        }
      ]
    },
    {
      "cell_type": "code",
      "metadata": {
        "id": "8bN8KutTReUn",
        "colab": {
          "base_uri": "https://localhost:8080/"
        },
        "outputId": "db9e7ab2-926a-49b9-8fb6-b3e702a7e74a"
      },
      "source": [
        "cd content/"
      ],
      "execution_count": null,
      "outputs": [
        {
          "output_type": "stream",
          "text": [
            "/content\n"
          ],
          "name": "stdout"
        }
      ]
    },
    {
      "cell_type": "code",
      "metadata": {
        "id": "9Ru63H-RDPGw",
        "colab": {
          "base_uri": "https://localhost:8080/",
          "height": 663
        },
        "outputId": "0812be76-3608-4c02-9407-b441293e7461"
      },
      "source": [
        "from apex import amp\n",
        "waveglow, _ = amp.initialize(waveglow, [], opt_level=\"O3\") # Try if you want to boost up synthesis speed."
      ],
      "execution_count": null,
      "outputs": [
        {
          "output_type": "stream",
          "text": [
            "Selected optimization level O3:  Pure FP16 training.\n",
            "Defaults for this optimization level are:\n",
            "enabled                : True\n",
            "opt_level              : O3\n",
            "cast_model_type        : torch.float16\n",
            "patch_torch_functions  : False\n",
            "keep_batchnorm_fp32    : False\n",
            "master_weights         : False\n",
            "loss_scale             : 1.0\n",
            "Processing user overrides (additional kwargs that are not None)...\n",
            "After processing overrides, optimization options are:\n",
            "enabled                : True\n",
            "opt_level              : O3\n",
            "cast_model_type        : torch.float16\n",
            "patch_torch_functions  : False\n",
            "keep_batchnorm_fp32    : False\n",
            "master_weights         : False\n",
            "loss_scale             : 1.0\n"
          ],
          "name": "stdout"
        },
        {
          "output_type": "error",
          "ename": "RuntimeError",
          "evalue": "ignored",
          "traceback": [
            "\u001b[0;31m---------------------------------------------------------------------------\u001b[0m",
            "\u001b[0;31mRuntimeError\u001b[0m                              Traceback (most recent call last)",
            "\u001b[0;32m<ipython-input-3-3b57a8428beb>\u001b[0m in \u001b[0;36m<module>\u001b[0;34m()\u001b[0m\n\u001b[1;32m      1\u001b[0m \u001b[0;32mfrom\u001b[0m \u001b[0mapex\u001b[0m \u001b[0;32mimport\u001b[0m \u001b[0mamp\u001b[0m\u001b[0;34m\u001b[0m\u001b[0;34m\u001b[0m\u001b[0m\n\u001b[0;32m----> 2\u001b[0;31m \u001b[0mwaveglow\u001b[0m\u001b[0;34m,\u001b[0m \u001b[0m_\u001b[0m \u001b[0;34m=\u001b[0m \u001b[0mamp\u001b[0m\u001b[0;34m.\u001b[0m\u001b[0minitialize\u001b[0m\u001b[0;34m(\u001b[0m\u001b[0mwaveglow\u001b[0m\u001b[0;34m,\u001b[0m \u001b[0;34m[\u001b[0m\u001b[0;34m]\u001b[0m\u001b[0;34m,\u001b[0m \u001b[0mopt_level\u001b[0m\u001b[0;34m=\u001b[0m\u001b[0;34m\"O3\"\u001b[0m\u001b[0;34m)\u001b[0m \u001b[0;31m# Try if you want to boost up synthesis speed.\u001b[0m\u001b[0;34m\u001b[0m\u001b[0;34m\u001b[0m\u001b[0m\n\u001b[0m",
            "\u001b[0;32m/usr/local/lib/python3.7/dist-packages/apex/amp/frontend.py\u001b[0m in \u001b[0;36minitialize\u001b[0;34m(models, optimizers, enabled, opt_level, cast_model_type, patch_torch_functions, keep_batchnorm_fp32, master_weights, loss_scale, cast_model_outputs, num_losses, verbosity, min_loss_scale, max_loss_scale)\u001b[0m\n\u001b[1;32m    356\u001b[0m         \u001b[0mmaybe_print\u001b[0m\u001b[0;34m(\u001b[0m\u001b[0;34m\"{:22} : {}\"\u001b[0m\u001b[0;34m.\u001b[0m\u001b[0mformat\u001b[0m\u001b[0;34m(\u001b[0m\u001b[0mk\u001b[0m\u001b[0;34m,\u001b[0m \u001b[0mv\u001b[0m\u001b[0;34m)\u001b[0m\u001b[0;34m,\u001b[0m \u001b[0;32mTrue\u001b[0m\u001b[0;34m)\u001b[0m\u001b[0;34m\u001b[0m\u001b[0;34m\u001b[0m\u001b[0m\n\u001b[1;32m    357\u001b[0m \u001b[0;34m\u001b[0m\u001b[0m\n\u001b[0;32m--> 358\u001b[0;31m     \u001b[0;32mreturn\u001b[0m \u001b[0m_initialize\u001b[0m\u001b[0;34m(\u001b[0m\u001b[0mmodels\u001b[0m\u001b[0;34m,\u001b[0m \u001b[0moptimizers\u001b[0m\u001b[0;34m,\u001b[0m \u001b[0m_amp_state\u001b[0m\u001b[0;34m.\u001b[0m\u001b[0mopt_properties\u001b[0m\u001b[0;34m,\u001b[0m \u001b[0mnum_losses\u001b[0m\u001b[0;34m,\u001b[0m \u001b[0mcast_model_outputs\u001b[0m\u001b[0;34m)\u001b[0m\u001b[0;34m\u001b[0m\u001b[0;34m\u001b[0m\u001b[0m\n\u001b[0m\u001b[1;32m    359\u001b[0m \u001b[0;34m\u001b[0m\u001b[0m\n\u001b[1;32m    360\u001b[0m \u001b[0;34m\u001b[0m\u001b[0m\n",
            "\u001b[0;32m/usr/local/lib/python3.7/dist-packages/apex/amp/_initialize.py\u001b[0m in \u001b[0;36m_initialize\u001b[0;34m(models, optimizers, properties, num_losses, cast_model_outputs)\u001b[0m\n\u001b[1;32m    169\u001b[0m \u001b[0;34m\u001b[0m\u001b[0m\n\u001b[1;32m    170\u001b[0m     \u001b[0;32mif\u001b[0m \u001b[0;32mnot\u001b[0m \u001b[0m_amp_state\u001b[0m\u001b[0;34m.\u001b[0m\u001b[0mallow_incoming_model_not_fp32\u001b[0m\u001b[0;34m:\u001b[0m\u001b[0;34m\u001b[0m\u001b[0;34m\u001b[0m\u001b[0m\n\u001b[0;32m--> 171\u001b[0;31m         \u001b[0mcheck_params_fp32\u001b[0m\u001b[0;34m(\u001b[0m\u001b[0mmodels\u001b[0m\u001b[0;34m)\u001b[0m\u001b[0;34m\u001b[0m\u001b[0;34m\u001b[0m\u001b[0m\n\u001b[0m\u001b[1;32m    172\u001b[0m \u001b[0;34m\u001b[0m\u001b[0m\n\u001b[1;32m    173\u001b[0m     \u001b[0;31m# In the future, when FP16_Optimizer can be deprecated and master weights can\u001b[0m\u001b[0;34m\u001b[0m\u001b[0;34m\u001b[0m\u001b[0;34m\u001b[0m\u001b[0m\n",
            "\u001b[0;32m/usr/local/lib/python3.7/dist-packages/apex/amp/_initialize.py\u001b[0m in \u001b[0;36mcheck_params_fp32\u001b[0;34m(models)\u001b[0m\n\u001b[1;32m     85\u001b[0m                         \u001b[0;34m\"When using amp.initialize, you do not need to call .half() on your model\\n\"\u001b[0m\u001b[0;34m\u001b[0m\u001b[0;34m\u001b[0m\u001b[0m\n\u001b[1;32m     86\u001b[0m                         \"before passing it, no matter what optimization level you choose.\".format(\n\u001b[0;32m---> 87\u001b[0;31m                         name, param.type()))\n\u001b[0m\u001b[1;32m     88\u001b[0m                 \u001b[0;32melif\u001b[0m \u001b[0;32mnot\u001b[0m \u001b[0mparam\u001b[0m\u001b[0;34m.\u001b[0m\u001b[0mis_cuda\u001b[0m\u001b[0;34m:\u001b[0m\u001b[0;34m\u001b[0m\u001b[0;34m\u001b[0m\u001b[0m\n\u001b[1;32m     89\u001b[0m                     warn_or_err(\"Found param {} with type {}, expected torch.cuda.FloatTensor.\\n\"\n",
            "\u001b[0;32m/usr/local/lib/python3.7/dist-packages/apex/amp/_amp_state.py\u001b[0m in \u001b[0;36mwarn_or_err\u001b[0;34m(msg)\u001b[0m\n\u001b[1;32m     31\u001b[0m         \u001b[0mprint\u001b[0m\u001b[0;34m(\u001b[0m\u001b[0;34m\"Warning:  \"\u001b[0m \u001b[0;34m+\u001b[0m \u001b[0mmsg\u001b[0m\u001b[0;34m)\u001b[0m\u001b[0;34m\u001b[0m\u001b[0;34m\u001b[0m\u001b[0m\n\u001b[1;32m     32\u001b[0m     \u001b[0;32melse\u001b[0m\u001b[0;34m:\u001b[0m\u001b[0;34m\u001b[0m\u001b[0;34m\u001b[0m\u001b[0m\n\u001b[0;32m---> 33\u001b[0;31m         \u001b[0;32mraise\u001b[0m \u001b[0mRuntimeError\u001b[0m\u001b[0;34m(\u001b[0m\u001b[0mmsg\u001b[0m\u001b[0;34m)\u001b[0m\u001b[0;34m\u001b[0m\u001b[0;34m\u001b[0m\u001b[0m\n\u001b[0m\u001b[1;32m     34\u001b[0m         \u001b[0;31m# I'm not sure if allowing hard_override is a good idea.\u001b[0m\u001b[0;34m\u001b[0m\u001b[0;34m\u001b[0m\u001b[0;34m\u001b[0m\u001b[0m\n\u001b[1;32m     35\u001b[0m         \u001b[0;31m# + \"  If you're sure you know what you're doing, supply \" +\u001b[0m\u001b[0;34m\u001b[0m\u001b[0;34m\u001b[0m\u001b[0;34m\u001b[0m\u001b[0m\n",
            "\u001b[0;31mRuntimeError\u001b[0m: Found param upsample.weight with type torch.cuda.HalfTensor, expected torch.cuda.FloatTensor.\nWhen using amp.initialize, you do not need to call .half() on your model\nbefore passing it, no matter what optimization level you choose."
          ]
        }
      ]
    },
    {
      "cell_type": "code",
      "metadata": {
        "id": "73-Ck9s1IAwl",
        "colab": {
          "base_uri": "https://localhost:8080/"
        },
        "outputId": "cf9a973a-06c7-4c01-b63c-6a4d62516e0b"
      },
      "source": [
        "%cd /content/\n",
        "!git clone https://github.com/jaywalnut310/glow-tts glow-tts"
      ],
      "execution_count": null,
      "outputs": [
        {
          "output_type": "stream",
          "text": [
            "/content\n",
            "Cloning into 'glow-tts'...\n",
            "remote: Enumerating objects: 25, done.\u001b[K\n",
            "remote: Counting objects: 100% (25/25), done.\u001b[K\n",
            "remote: Compressing objects: 100% (19/19), done.\u001b[K\n",
            "remote: Total 110 (delta 7), reused 16 (delta 6), pack-reused 85\u001b[K\n",
            "Receiving objects: 100% (110/110), 2.22 MiB | 7.85 MiB/s, done.\n",
            "Resolving deltas: 100% (34/34), done.\n"
          ],
          "name": "stdout"
        }
      ]
    },
    {
      "cell_type": "code",
      "metadata": {
        "id": "O_wlay6QIVoj",
        "colab": {
          "base_uri": "https://localhost:8080/"
        },
        "outputId": "85129f3e-2be6-4218-91ae-bdf83d725ddd"
      },
      "source": [
        "%cd /content/glow-tts\n",
        "import utils\n",
        "!mkdir /content/glow-tts/logs\n",
        "\n",
        "!cp /content/glow-tts/configs/base.json /content/glow-tts/logs/config.json\n",
        "%cd /content/glow-tts/logs\n",
        "!gdown https://drive.google.com/uc?id=1JiCMBVTG4BMREK8cT3MYck1MgYvwASL0\n",
        "%cd /content"
      ],
      "execution_count": null,
      "outputs": [
        {
          "output_type": "stream",
          "text": [
            "/content/glow-tts\n",
            "/content/glow-tts/logs\n",
            "Downloading...\n",
            "From: https://drive.google.com/uc?id=1JiCMBVTG4BMREK8cT3MYck1MgYvwASL0\n",
            "To: /content/glow-tts/logs/pretrained.pth\n",
            "115MB [00:00, 195MB/s] \n",
            "/content\n"
          ],
          "name": "stdout"
        }
      ]
    },
    {
      "cell_type": "code",
      "metadata": {
        "id": "N9PZAiS8QK9v",
        "colab": {
          "base_uri": "https://localhost:8080/"
        },
        "outputId": "a44c2d85-bf4a-4d27-8128-a2607ced0e5c"
      },
      "source": [
        "%cd /content/glow-tts/monotonic_align/\n",
        "!python setup.py install\n",
        "from monotonic_align.core import maximum_path_c"
      ],
      "execution_count": null,
      "outputs": [
        {
          "output_type": "stream",
          "text": [
            "/content/glow-tts/monotonic_align\n",
            "Compiling core.pyx because it changed.\n",
            "[1/1] Cythonizing core.pyx\n",
            "/usr/local/lib/python3.7/dist-packages/Cython/Compiler/Main.py:369: FutureWarning: Cython directive 'language_level' not set, using 2 for now (Py2). This will change in a later release! File: /content/glow-tts/monotonic_align/core.pyx\n",
            "  tree = Parsing.p_module(s, pxd, full_module_name)\n",
            "running install\n",
            "running build\n",
            "running build_ext\n",
            "building 'monotonic_align.core' extension\n",
            "creating build\n",
            "creating build/temp.linux-x86_64-3.7\n",
            "x86_64-linux-gnu-gcc -pthread -Wno-unused-result -Wsign-compare -DNDEBUG -g -fwrapv -O2 -Wall -g -fdebug-prefix-map=/build/python3.7-a56wZI/python3.7-3.7.10=. -fstack-protector-strong -Wformat -Werror=format-security -g -fdebug-prefix-map=/build/python3.7-a56wZI/python3.7-3.7.10=. -fstack-protector-strong -Wformat -Werror=format-security -Wdate-time -D_FORTIFY_SOURCE=2 -fPIC -I/usr/local/lib/python3.7/dist-packages/numpy/core/include -I/usr/include/python3.7m -c core.c -o build/temp.linux-x86_64-3.7/core.o\n",
            "In file included from \u001b[01m\u001b[K/usr/local/lib/python3.7/dist-packages/numpy/core/include/numpy/ndarraytypes.h:1822:0\u001b[m\u001b[K,\n",
            "                 from \u001b[01m\u001b[K/usr/local/lib/python3.7/dist-packages/numpy/core/include/numpy/ndarrayobject.h:12\u001b[m\u001b[K,\n",
            "                 from \u001b[01m\u001b[K/usr/local/lib/python3.7/dist-packages/numpy/core/include/numpy/arrayobject.h:4\u001b[m\u001b[K,\n",
            "                 from \u001b[01m\u001b[Kcore.c:623\u001b[m\u001b[K:\n",
            "\u001b[01m\u001b[K/usr/local/lib/python3.7/dist-packages/numpy/core/include/numpy/npy_1_7_deprecated_api.h:17:2:\u001b[m\u001b[K \u001b[01;35m\u001b[Kwarning: \u001b[m\u001b[K#warning \"Using deprecated NumPy API, disable it with \" \"#define NPY_NO_DEPRECATED_API NPY_1_7_API_VERSION\" [\u001b[01;35m\u001b[K-Wcpp\u001b[m\u001b[K]\n",
            " #\u001b[01;35m\u001b[Kwarning\u001b[m\u001b[K \"Using deprecated NumPy API, disable it with \" \\\n",
            "  \u001b[01;35m\u001b[K^~~~~~~\u001b[m\u001b[K\n",
            "creating build/lib.linux-x86_64-3.7\n",
            "creating build/lib.linux-x86_64-3.7/monotonic_align\n",
            "x86_64-linux-gnu-gcc -pthread -shared -Wl,-O1 -Wl,-Bsymbolic-functions -Wl,-Bsymbolic-functions -Wl,-z,relro -Wl,-Bsymbolic-functions -Wl,-z,relro -g -fdebug-prefix-map=/build/python3.7-a56wZI/python3.7-3.7.10=. -fstack-protector-strong -Wformat -Werror=format-security -Wdate-time -D_FORTIFY_SOURCE=2 build/temp.linux-x86_64-3.7/core.o -o build/lib.linux-x86_64-3.7/monotonic_align/core.cpython-37m-x86_64-linux-gnu.so\n",
            "running install_lib\n",
            "creating /usr/local/lib/python3.7/dist-packages/monotonic_align\n",
            "copying build/lib.linux-x86_64-3.7/monotonic_align/core.cpython-37m-x86_64-linux-gnu.so -> /usr/local/lib/python3.7/dist-packages/monotonic_align\n",
            "running install_egg_info\n",
            "Writing /usr/local/lib/python3.7/dist-packages/monotonic_align-0.0.0.egg-info\n"
          ],
          "name": "stdout"
        }
      ]
    },
    {
      "cell_type": "code",
      "metadata": {
        "id": "udC9IBQZTcQo",
        "colab": {
          "base_uri": "https://localhost:8080/"
        },
        "outputId": "4b6d6e16-f5dc-42fd-809a-2fe09fe852c2"
      },
      "source": [
        "!pip install Unidecode"
      ],
      "execution_count": null,
      "outputs": [
        {
          "output_type": "stream",
          "text": [
            "Collecting Unidecode\n",
            "\u001b[?25l  Downloading https://files.pythonhosted.org/packages/9e/25/723487ca2a52ebcee88a34d7d1f5a4b80b793f179ee0f62d5371938dfa01/Unidecode-1.2.0-py2.py3-none-any.whl (241kB)\n",
            "\r\u001b[K     |█▍                              | 10kB 16.3MB/s eta 0:00:01\r\u001b[K     |██▊                             | 20kB 17.6MB/s eta 0:00:01\r\u001b[K     |████                            | 30kB 10.6MB/s eta 0:00:01\r\u001b[K     |█████▍                          | 40kB 8.8MB/s eta 0:00:01\r\u001b[K     |██████▉                         | 51kB 4.3MB/s eta 0:00:01\r\u001b[K     |████████▏                       | 61kB 4.8MB/s eta 0:00:01\r\u001b[K     |█████████▌                      | 71kB 5.2MB/s eta 0:00:01\r\u001b[K     |██████████▉                     | 81kB 5.5MB/s eta 0:00:01\r\u001b[K     |████████████▏                   | 92kB 5.4MB/s eta 0:00:01\r\u001b[K     |█████████████▋                  | 102kB 5.9MB/s eta 0:00:01\r\u001b[K     |███████████████                 | 112kB 5.9MB/s eta 0:00:01\r\u001b[K     |████████████████▎               | 122kB 5.9MB/s eta 0:00:01\r\u001b[K     |█████████████████▋              | 133kB 5.9MB/s eta 0:00:01\r\u001b[K     |███████████████████             | 143kB 5.9MB/s eta 0:00:01\r\u001b[K     |████████████████████▍           | 153kB 5.9MB/s eta 0:00:01\r\u001b[K     |█████████████████████▊          | 163kB 5.9MB/s eta 0:00:01\r\u001b[K     |███████████████████████         | 174kB 5.9MB/s eta 0:00:01\r\u001b[K     |████████████████████████▍       | 184kB 5.9MB/s eta 0:00:01\r\u001b[K     |█████████████████████████▊      | 194kB 5.9MB/s eta 0:00:01\r\u001b[K     |███████████████████████████▏    | 204kB 5.9MB/s eta 0:00:01\r\u001b[K     |████████████████████████████▌   | 215kB 5.9MB/s eta 0:00:01\r\u001b[K     |█████████████████████████████▉  | 225kB 5.9MB/s eta 0:00:01\r\u001b[K     |███████████████████████████████▏| 235kB 5.9MB/s eta 0:00:01\r\u001b[K     |████████████████████████████████| 245kB 5.9MB/s \n",
            "\u001b[?25hInstalling collected packages: Unidecode\n",
            "Successfully installed Unidecode-1.2.0\n"
          ],
          "name": "stdout"
        }
      ]
    },
    {
      "cell_type": "code",
      "metadata": {
        "id": "c_pz87pIUWzh",
        "colab": {
          "base_uri": "https://localhost:8080/"
        },
        "outputId": "90961cd8-4e7b-456b-a088-5b1f792654f0"
      },
      "source": [
        "%cd /content/glow-tts/logs"
      ],
      "execution_count": null,
      "outputs": [
        {
          "output_type": "stream",
          "text": [
            "/content/glow-tts/logs\n"
          ],
          "name": "stdout"
        }
      ]
    },
    {
      "cell_type": "code",
      "metadata": {
        "id": "lIVO9kFzKk1H",
        "colab": {
          "base_uri": "https://localhost:8080/"
        },
        "outputId": "fc8d7e77-abf5-48ff-dac2-988a3dca1855"
      },
      "source": [
        "%cd /content/glow-tts\n",
        "\n",
        "import models\n",
        "from text import text_to_sequence, cmudict\n",
        "from text.symbols import symbols\n",
        "import glob\n",
        "import os\n",
        "\n",
        "model_dir = \"/content/glow-tts/logs\"\n",
        "hps = utils.get_hparams_from_dir(model_dir)\n",
        "\n",
        "model = models.FlowGenerator(\n",
        "                              len(symbols),\n",
        "                              out_channels=hps.data.n_mel_channels,\n",
        "                              **hps.model).to(\"cuda\")\n",
        "\n",
        "f_list = glob.glob(os.path.join(model_dir, \"*.pth\"))\n",
        "latest_checkpoint_path = f_list[-1]\n",
        "\n",
        "utils.load_checkpoint(latest_checkpoint_path, model)\n",
        "model.decoder.store_inverse() # do not calcuate jacobians for fast decoding\n",
        "_ = model.eval()\n",
        "\n",
        "cmu_dict = cmudict.CMUDict(hps.data.cmudict_path)"
      ],
      "execution_count": null,
      "outputs": [
        {
          "output_type": "stream",
          "text": [
            "/content/glow-tts\n",
            "INFO:root:Loaded checkpoint '/content/glow-tts/logs/pretrained.pth' (iteration 0)\n"
          ],
          "name": "stdout"
        }
      ]
    },
    {
      "cell_type": "code",
      "metadata": {
        "id": "8a_oe6UwWB6s",
        "colab": {
          "base_uri": "https://localhost:8080/"
        },
        "outputId": "5dd1a1d9-0718-402f-9937-d706350c5435"
      },
      "source": [
        "import numpy as np\n",
        "\n",
        "tst_stn = \" Deeeeeeeep fakes are really awesome ! \" # Adding spaces at the beginning and the end of utterance improves quality\n",
        "sequence = np.array(text_to_sequence(tst_stn, ['english_cleaners'], cmu_dict))[None, :]\n",
        "print(\"\".join([symbols[c] for c in sequence[0]]))\n",
        "x_tst = torch.autograd.Variable(torch.from_numpy(sequence)).cuda().long()\n",
        "x_tst_lengths = torch.tensor([x_tst.shape[1]]).cuda()"
      ],
      "execution_count": null,
      "outputs": [
        {
          "output_type": "stream",
          "text": [
            " deeeeeeeep @F@EY1@K@S @AA1@R @R@IH1@L@IY0 @AO1@S@AH0@M ! \n"
          ],
          "name": "stdout"
        }
      ]
    },
    {
      "cell_type": "code",
      "metadata": {
        "id": "1Y4Mo9ADWJgb",
        "colab": {
          "base_uri": "https://localhost:8080/",
          "height": 75
        },
        "outputId": "fb122516-c9cd-4fa6-952f-5ddf25c3f166"
      },
      "source": [
        "import IPython.display as ipd\n",
        "\n",
        "with torch.no_grad():\n",
        "  noise_scale = .667\n",
        "  length_scale = 1.0\n",
        "  (y_gen_tst, *r), attn_gen, *_ = model(x_tst, x_tst_lengths, gen=True, noise_scale=noise_scale, length_scale=length_scale)\n",
        "  try:\n",
        "    audio = waveglow.infer(y_gen_tst.half(), sigma=.666)\n",
        "  except:\n",
        "    audio = waveglow.infer(y_gen_tst, sigma=.666)\n",
        "ipd.Audio(audio[0].clamp(-1,1).data.cpu().float().numpy(), rate=hps.data.sampling_rate)"
      ],
      "execution_count": null,
      "outputs": [
        {
          "output_type": "execute_result",
          "data": {
            "text/html": [
              "\n",
              "                <audio controls=\"controls\" >\n",
              "                    <source src=\"data:audio/wav;base64,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\" type=\"audio/wav\" />\n",
              "                    Your browser does not support the audio element.\n",
              "                </audio>\n",
              "              "
            ],
            "text/plain": [
              "<IPython.lib.display.Audio object>"
            ]
          },
          "metadata": {
            "tags": []
          },
          "execution_count": 11
        }
      ]
    }
  ]
}